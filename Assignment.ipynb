{
 "cells": [
  {
   "cell_type": "code",
   "execution_count": null,
   "metadata": {},
   "outputs": [],
   "source": [
    "# Assignment\n",
    "district = \"Gwalior\"\n",
    "total_infected = 1234\n",
    "infected_on_120620 = 13\n",
    "infected_on_110620 = 2\n",
    "infected_on_100620 = 12\n",
    "total_infected_in_three_days = infected_on_100620 + infected_on_110620 + infected_on_120620\n",
    "total_infected_before_these_three_days = total_infected - total_infected_in_three_days\n",
    "percentage_change = total_infected_in_three_days*100/total_infected_before_these_three_days\n",
    "print(\"%change in infected in last three days\", percentage_change)\n",
    "print(\"%change in first day i.e. 10th June\",infected_on_100620*100/ total_infected_before_these_three_days)\n",
    "print(\"%change in second day i.e. 11th June\",infected_on_110620*100/ (total_infected_before_these_three_days+infected_on_100620))\n",
    "print(\"%change in second day i.e. 12th June\",infected_on_120620*100/ (total_infected-infected_on_120620))\n"
   ]
  }
 ],
 "metadata": {
  "kernelspec": {
   "display_name": "Python 3",
   "language": "python",
   "name": "python3"
  },
  "language_info": {
   "codemirror_mode": {
    "name": "ipython",
    "version": 3
   },
   "file_extension": ".py",
   "mimetype": "text/x-python",
   "name": "python",
   "nbconvert_exporter": "python",
   "pygments_lexer": "ipython3",
   "version": "3.7.3"
  },
  "toc": {
   "base_numbering": 1,
   "nav_menu": {},
   "number_sections": true,
   "sideBar": true,
   "skip_h1_title": false,
   "title_cell": "Table of Contents",
   "title_sidebar": "Contents",
   "toc_cell": false,
   "toc_position": {},
   "toc_section_display": true,
   "toc_window_display": false
  }
 },
 "nbformat": 4,
 "nbformat_minor": 2
}
